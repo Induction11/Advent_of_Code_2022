{
 "cells": [
  {
   "cell_type": "code",
   "execution_count": 12,
   "id": "bf1edb5f",
   "metadata": {},
   "outputs": [],
   "source": [
    "#open file for reading\n",
    "my_file = open(\"input_day_1\", \"r\")"
   ]
  },
  {
   "cell_type": "code",
   "execution_count": 33,
   "id": "58df95b8-6b8c-4b13-bacc-84bfc8b0f5a7",
   "metadata": {},
   "outputs": [],
   "source": [
    "#reading file\n",
    "txt = my_file.read()"
   ]
  },
  {
   "cell_type": "code",
   "execution_count": 32,
   "id": "924889b6-233b-4b0d-a687-c7fdda6b4aad",
   "metadata": {},
   "outputs": [],
   "source": [
    "#converting to list of strings\n",
    "lst = (txt.split(\"\\n\"))"
   ]
  },
  {
   "cell_type": "code",
   "execution_count": 25,
   "id": "879803ed-6e7c-4a3d-bef2-4dd241a27c24",
   "metadata": {},
   "outputs": [],
   "source": [
    "#convert blanks to 0\n",
    "zer0s = []\n",
    "for j in lst:\n",
    "    if j == '':\n",
    "        zer0s.append('0')\n",
    "    else:\n",
    "        zer0s.append(j)"
   ]
  },
  {
   "cell_type": "code",
   "execution_count": 29,
   "id": "bdcb7f16-d93b-42a6-a716-1a31545e68ef",
   "metadata": {},
   "outputs": [],
   "source": [
    "#Convert list to ints\n",
    "ints = list(map(int,zer0s))"
   ]
  },
  {
   "cell_type": "code",
   "execution_count": 31,
   "id": "3a2ac15a-d1d3-4dc4-a6fd-d8bf42f45d14",
   "metadata": {},
   "outputs": [
    {
     "data": {
      "text/plain": [
       "69177"
      ]
     },
     "execution_count": 31,
     "metadata": {},
     "output_type": "execute_result"
    }
   ],
   "source": [
    "#calculate maximum\n",
    "rabbit = 0\n",
    "max_calories = 0\n",
    "for i,element in enumerate(ints):\n",
    "    if element == 0:\n",
    "        calories = sum(ints[rabbit:i])\n",
    "        rabbit = i\n",
    "        if calories > max_calories:\n",
    "            max_calories = calories\n",
    "max_calories"
   ]
  },
  {
   "cell_type": "code",
   "execution_count": null,
   "id": "9e0c3fbe-3668-4819-ac06-2faef6ca190b",
   "metadata": {},
   "outputs": [],
   "source": []
  }
 ],
 "metadata": {
  "kernelspec": {
   "display_name": "Python 3 (ipykernel)",
   "language": "python",
   "name": "python3"
  },
  "language_info": {
   "codemirror_mode": {
    "name": "ipython",
    "version": 3
   },
   "file_extension": ".py",
   "mimetype": "text/x-python",
   "name": "python",
   "nbconvert_exporter": "python",
   "pygments_lexer": "ipython3",
   "version": "3.9.13"
  }
 },
 "nbformat": 4,
 "nbformat_minor": 5
}
